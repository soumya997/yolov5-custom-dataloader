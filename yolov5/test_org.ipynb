{
 "cells": [
  {
   "cell_type": "code",
   "execution_count": 1,
   "metadata": {},
   "outputs": [],
   "source": [
    "import numpy as np # linear algebra\n",
    "import pandas as pd # data processing, CSV file I/O (e.g. pd.read_csv)\n",
    "import os\n",
    "import torch\n",
    "import cv2\n",
    "import matplotlib.pyplot as plt\n",
    "import glob\n",
    "from tqdm import tqdm\n",
    "\n",
    "from utils.dataloaders import create_dataloader\n",
    "from utils.dataloaders import LoadImagesAndLabels\n",
    "from utils.custom_dataloaders import CustomLoadImagesAndLabels"
   ]
  },
  {
   "cell_type": "code",
   "execution_count": 2,
   "metadata": {},
   "outputs": [
    {
     "name": "stderr",
     "output_type": "stream",
     "text": [
      "Scanning convertor/fold0/labels/train2017.cache... 3228 images, 1 backgrounds, 0 corrupt: 100%|██████████| 3228/3228 [00:00<?, ?it/s]"
     ]
    },
    {
     "name": "stderr",
     "output_type": "stream",
     "text": [
      "Scanning convertor/fold0/labels/train2017.cache... 3228 images, 1 backgrounds, 0 corrupt: 100%|██████████| 3228/3228 [00:00<?, ?it/s]\n"
     ]
    },
    {
     "data": {
      "text/plain": [
       "(tensor([[[ 40,  38,  26,  ...,  76,  78,  79],\n",
       "          [ 39,  36,  26,  ...,  75,  76,  77],\n",
       "          [ 36,  34,  27,  ...,  74,  75,  75],\n",
       "          ...,\n",
       "          [ 39,  39,  39,  ...,  15,  15,  15],\n",
       "          [ 17,  16,  14,  ...,  15,  16,  16],\n",
       "          [ 12,  10,   8,  ...,  15,  16,  16]],\n",
       " \n",
       "         [[ 40,  38,  26,  ..., 104, 106, 107],\n",
       "          [ 39,  36,  26,  ..., 103, 104, 105],\n",
       "          [ 37,  35,  28,  ..., 102, 103, 103],\n",
       "          ...,\n",
       "          [ 57,  57,  57,  ...,  15,  15,  15],\n",
       "          [ 35,  34,  32,  ...,  15,  16,  16],\n",
       "          [ 30,  28,  26,  ...,  15,  16,  16]],\n",
       " \n",
       "         [[ 28,  26,  14,  ...,  89,  91,  92],\n",
       "          [ 27,  24,  14,  ...,  88,  89,  90],\n",
       "          [ 23,  21,  14,  ...,  87,  88,  88],\n",
       "          ...,\n",
       "          [ 41,  41,  41,  ...,   7,   7,   7],\n",
       "          [ 19,  18,  16,  ...,   7,   8,   8],\n",
       "          [ 14,  12,  10,  ...,   7,   8,   8]]], dtype=torch.uint8),\n",
       " tensor([[0.00000, 0.00000, 0.14209, 0.30225, 0.11035, 0.10449],\n",
       "         [0.00000, 0.00000, 0.27197, 0.33350, 0.12207, 0.11621],\n",
       "         [0.00000, 0.00000, 0.23242, 0.01660, 0.08008, 0.03320],\n",
       "         [0.00000, 0.00000, 0.58984, 0.58594, 0.19531, 0.08203],\n",
       "         [0.00000, 0.00000, 0.47607, 0.39990, 0.13379, 0.09473],\n",
       "         [0.00000, 0.00000, 0.42041, 0.27783, 0.09082, 0.08105],\n",
       "         [0.00000, 0.00000, 0.77734, 0.23633, 0.08203, 0.11328],\n",
       "         [0.00000, 0.00000, 0.37012, 0.44189, 0.09766, 0.08301],\n",
       "         [0.00000, 0.00000, 0.46338, 0.08008, 0.07324, 0.08008],\n",
       "         [0.00000, 0.00000, 0.43555, 0.89795, 0.21094, 0.08301],\n",
       "         [0.00000, 0.00000, 0.29688, 0.03711, 0.08984, 0.07422],\n",
       "         [0.00000, 0.00000, 0.32373, 0.11182, 0.11230, 0.10059],\n",
       "         [0.00000, 0.00000, 0.92725, 0.79541, 0.14551, 0.07129],\n",
       "         [0.00000, 0.00000, 0.73535, 0.61230, 0.08789, 0.07812],\n",
       "         [0.00000, 0.00000, 0.16748, 0.39062, 0.08496, 0.07227],\n",
       "         [0.00000, 0.00000, 0.87061, 0.96875, 0.15723, 0.06250],\n",
       "         [0.00000, 0.00000, 0.74512, 0.03076, 0.08594, 0.06152],\n",
       "         [0.00000, 0.00000, 0.44043, 0.18262, 0.09766, 0.08203],\n",
       "         [0.00000, 0.00000, 0.56055, 0.12354, 0.08789, 0.07324],\n",
       "         [0.00000, 0.00000, 0.14941, 0.77490, 0.15039, 0.08496],\n",
       "         [0.00000, 0.00000, 0.92236, 0.71240, 0.15137, 0.11230],\n",
       "         [0.00000, 0.00000, 0.96191, 0.47363, 0.07617, 0.05469],\n",
       "         [0.00000, 0.00000, 0.95703, 0.89941, 0.08008, 0.13477],\n",
       "         [0.00000, 0.00000, 0.16211, 0.21582, 0.07031, 0.07227],\n",
       "         [0.00000, 0.00000, 0.02393, 0.31543, 0.04785, 0.06250],\n",
       "         [0.00000, 0.00000, 0.38184, 0.71094, 0.08008, 0.07227],\n",
       "         [0.00000, 0.00000, 0.31445, 0.66455, 0.07422, 0.10059],\n",
       "         [0.00000, 0.00000, 0.04590, 0.68604, 0.09180, 0.10254],\n",
       "         [0.00000, 0.00000, 0.01953, 0.63965, 0.03906, 0.08008],\n",
       "         [0.00000, 0.00000, 0.10059, 0.69482, 0.06250, 0.09473],\n",
       "         [0.00000, 0.00000, 0.20898, 0.66699, 0.05664, 0.06055],\n",
       "         [0.00000, 0.00000, 0.49707, 0.96484, 0.07422, 0.07031],\n",
       "         [0.00000, 0.00000, 0.25195, 0.71729, 0.11523, 0.07520],\n",
       "         [0.00000, 0.00000, 0.96875, 0.54443, 0.06250, 0.10059],\n",
       "         [0.00000, 0.00000, 0.27100, 0.96728, 0.07715, 0.06543],\n",
       "         [0.00000, 0.00000, 0.38135, 0.08936, 0.04980, 0.05957],\n",
       "         [0.00000, 0.00000, 0.50635, 0.02295, 0.07910, 0.04590],\n",
       "         [0.00000, 0.00000, 0.81689, 0.83252, 0.06348, 0.07324],\n",
       "         [0.00000, 0.00000, 0.73145, 0.87158, 0.06641, 0.06543],\n",
       "         [0.00000, 0.00000, 0.97266, 0.41162, 0.05469, 0.07324],\n",
       "         [0.00000, 0.00000, 0.91699, 0.13965, 0.08984, 0.07422]]),\n",
       " 'convertor/fold0/images/train2017/00764ad5d.jpg',\n",
       " ((1024, 1024), ((1.0, 1.0), (0.0, 0.0))))"
      ]
     },
     "execution_count": 2,
     "metadata": {},
     "output_type": "execute_result"
    }
   ],
   "source": [
    "import matplotlib.pyplot as plt\n",
    "path = \"./convertor/fold0/images/train2017/\"\n",
    "dataset = LoadImagesAndLabels(path, img_size=1024)\n",
    "\n",
    "\n",
    "dataset[3]\n",
    "# plt.subplot(1,2,1)\n",
    "# plt.imshow(dataset[3][0][0].permute(1,2,0).numpy())\n",
    "# plt.subplot(1,2,2)\n",
    "# plt.imshow(dataset[3][0][1].permute(1,2,0).numpy())\n",
    "# print(dataset[3][2][1], dataset[3][2][0])\n"
   ]
  },
  {
   "cell_type": "code",
   "execution_count": 3,
   "metadata": {},
   "outputs": [
    {
     "name": "stderr",
     "output_type": "stream",
     "text": [
      "Scanning /home/somusan/somusan/soumyadip/interview/lens_assignment/finger_data/labels/train.cache... 89 images, 0 backgrounds, 0 corrupt: 100%|██████████| 89/89 [00:00<?, ?it/s]\n"
     ]
    },
    {
     "data": {
      "text/plain": [
       "<matplotlib.image.AxesImage at 0x7f2afaac7fd0>"
      ]
     },
     "execution_count": 3,
     "metadata": {},
     "output_type": "execute_result"
    },
    {
     "data": {
      "image/png": "[encoded data removed]",
      "text/plain": [
       "<Figure size 640x480 with 1 Axes>"
      ]
     },
     "metadata": {},
     "output_type": "display_data"
    }
   ],
   "source": [
    "import matplotlib.pyplot as plt\n",
    "path = \"/home/somusan/somusan/soumyadip/interview/lens_assignment/finger_data/images/train/\"\n",
    "dataset = CustomLoadImagesAndLabels(path, img_size=640)\n",
    "\n",
    "\n",
    "# (dataset[3][0].permute(1,2,0).numpy())\n",
    "plt.subplot(1,2,1)\n",
    "plt.imshow(dataset[3][0].permute(1,2,0).numpy())\n",
    "# plt.subplot(1,2,2)\n",
    "# plt.imshow(dataset[3][0][1].permute(1,2,0).numpy())\n",
    "# print(dataset[3][2][1], dataset[3][2][0])\n"
   ]
  },
  {
   "cell_type": "code",
   "execution_count": 4,
   "metadata": {},
   "outputs": [
    {
     "data": {
      "text/plain": [
       "torch.uint8"
      ]
     },
     "execution_count": 4,
     "metadata": {},
     "output_type": "execute_result"
    }
   ],
   "source": [
    "dataset[3][0].dtype"
   ]
  }
 ],
 "metadata": {
  "kernelspec": {
   "display_name": ".venv",
   "language": "python",
   "name": "python3"
  },
  "language_info": {
   "codemirror_mode": {
    "name": "ipython",
    "version": 3
   },
   "file_extension": ".py",
   "mimetype": "text/x-python",
   "name": "python",
   "nbconvert_exporter": "python",
   "pygments_lexer": "ipython3",
   "version": "3.9.10"
  },
  "orig_nbformat": 4
 },
 "nbformat": 4,
 "nbformat_minor": 2
}
